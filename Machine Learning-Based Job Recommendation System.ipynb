{
 "cells": [
  {
   "cell_type": "code",
   "execution_count": 52,
   "id": "ee1967a3",
   "metadata": {},
   "outputs": [],
   "source": [
    "import numpy as np\n",
    "import pandas as pd"
   ]
  },
  {
   "cell_type": "code",
   "execution_count": 53,
   "id": "828ad235",
   "metadata": {},
   "outputs": [],
   "source": [
    "job_df = pd.read_csv(\"Combined_Jobs_Final.csv\")"
   ]
  },
  {
   "cell_type": "code",
   "execution_count": 54,
   "id": "0b4e1456",
   "metadata": {},
   "outputs": [
    {
     "data": {
      "text/html": [
       "<div>\n",
       "<style scoped>\n",
       "    .dataframe tbody tr th:only-of-type {\n",
       "        vertical-align: middle;\n",
       "    }\n",
       "\n",
       "    .dataframe tbody tr th {\n",
       "        vertical-align: top;\n",
       "    }\n",
       "\n",
       "    .dataframe thead th {\n",
       "        text-align: right;\n",
       "    }\n",
       "</style>\n",
       "<table border=\"1\" class=\"dataframe\">\n",
       "  <thead>\n",
       "    <tr style=\"text-align: right;\">\n",
       "      <th></th>\n",
       "      <th>Job.ID</th>\n",
       "      <th>Provider</th>\n",
       "      <th>Status</th>\n",
       "      <th>Slug</th>\n",
       "      <th>Title</th>\n",
       "      <th>Position</th>\n",
       "      <th>Company</th>\n",
       "      <th>City</th>\n",
       "      <th>State.Name</th>\n",
       "      <th>State.Code</th>\n",
       "      <th>...</th>\n",
       "      <th>Industry</th>\n",
       "      <th>Job.Description</th>\n",
       "      <th>Requirements</th>\n",
       "      <th>Salary</th>\n",
       "      <th>Listing.Start</th>\n",
       "      <th>Listing.End</th>\n",
       "      <th>Employment.Type</th>\n",
       "      <th>Education.Required</th>\n",
       "      <th>Created.At</th>\n",
       "      <th>Updated.At</th>\n",
       "    </tr>\n",
       "  </thead>\n",
       "  <tbody>\n",
       "    <tr>\n",
       "      <th>0</th>\n",
       "      <td>111</td>\n",
       "      <td>1</td>\n",
       "      <td>open</td>\n",
       "      <td>palo-alto-ca-tacolicious-server</td>\n",
       "      <td>Server @ Tacolicious</td>\n",
       "      <td>Server</td>\n",
       "      <td>Tacolicious</td>\n",
       "      <td>Palo Alto</td>\n",
       "      <td>California</td>\n",
       "      <td>CA</td>\n",
       "      <td>...</td>\n",
       "      <td>Food and Beverages</td>\n",
       "      <td>Tacolicious' first Palo Alto store just opened...</td>\n",
       "      <td>NaN</td>\n",
       "      <td>8.0</td>\n",
       "      <td>NaN</td>\n",
       "      <td>NaN</td>\n",
       "      <td>Part-Time</td>\n",
       "      <td>NaN</td>\n",
       "      <td>2013-03-12 02:08:28 UTC</td>\n",
       "      <td>2014-08-16 15:35:36 UTC</td>\n",
       "    </tr>\n",
       "    <tr>\n",
       "      <th>1</th>\n",
       "      <td>113</td>\n",
       "      <td>1</td>\n",
       "      <td>open</td>\n",
       "      <td>san-francisco-ca-claude-lane-kitchen-staff-chef</td>\n",
       "      <td>Kitchen Staff/Chef @ Claude Lane</td>\n",
       "      <td>Kitchen Staff/Chef</td>\n",
       "      <td>Claude Lane</td>\n",
       "      <td>San Francisco</td>\n",
       "      <td>California</td>\n",
       "      <td>CA</td>\n",
       "      <td>...</td>\n",
       "      <td>Food and Beverages</td>\n",
       "      <td>\\r\\n\\r\\nNew French Brasserie in S.F. Financia...</td>\n",
       "      <td>NaN</td>\n",
       "      <td>0.0</td>\n",
       "      <td>NaN</td>\n",
       "      <td>NaN</td>\n",
       "      <td>Part-Time</td>\n",
       "      <td>NaN</td>\n",
       "      <td>2013-04-12 08:36:36 UTC</td>\n",
       "      <td>2014-08-16 15:35:36 UTC</td>\n",
       "    </tr>\n",
       "  </tbody>\n",
       "</table>\n",
       "<p>2 rows × 23 columns</p>\n",
       "</div>"
      ],
      "text/plain": [
       "   Job.ID  Provider Status                                             Slug  \\\n",
       "0     111         1   open                  palo-alto-ca-tacolicious-server   \n",
       "1     113         1   open  san-francisco-ca-claude-lane-kitchen-staff-chef   \n",
       "\n",
       "                              Title            Position      Company  \\\n",
       "0              Server @ Tacolicious              Server  Tacolicious   \n",
       "1  Kitchen Staff/Chef @ Claude Lane  Kitchen Staff/Chef  Claude Lane   \n",
       "\n",
       "            City  State.Name State.Code  ...            Industry  \\\n",
       "0      Palo Alto  California         CA  ...  Food and Beverages   \n",
       "1  San Francisco  California         CA  ...  Food and Beverages   \n",
       "\n",
       "                                     Job.Description  Requirements Salary  \\\n",
       "0  Tacolicious' first Palo Alto store just opened...           NaN    8.0   \n",
       "1   \\r\\n\\r\\nNew French Brasserie in S.F. Financia...           NaN    0.0   \n",
       "\n",
       "  Listing.Start  Listing.End  Employment.Type Education.Required  \\\n",
       "0           NaN          NaN        Part-Time                NaN   \n",
       "1           NaN          NaN        Part-Time                NaN   \n",
       "\n",
       "                Created.At               Updated.At  \n",
       "0  2013-03-12 02:08:28 UTC  2014-08-16 15:35:36 UTC  \n",
       "1  2013-04-12 08:36:36 UTC  2014-08-16 15:35:36 UTC  \n",
       "\n",
       "[2 rows x 23 columns]"
      ]
     },
     "execution_count": 54,
     "metadata": {},
     "output_type": "execute_result"
    }
   ],
   "source": [
    "job_df.head(2)"
   ]
  },
  {
   "cell_type": "code",
   "execution_count": 55,
   "id": "6e46f57f",
   "metadata": {},
   "outputs": [
    {
     "name": "stdout",
     "output_type": "stream",
     "text": [
      "84090\n",
      "84090\n"
     ]
    }
   ],
   "source": [
    "print(len(job_df))\n",
    "job_df = job_df[['Status', 'Title', 'Position', 'Company', 'Job.Description']]\n",
    "print(len(job_df))"
   ]
  },
  {
   "cell_type": "code",
   "execution_count": 56,
   "id": "7d67d44d",
   "metadata": {},
   "outputs": [
    {
     "data": {
      "text/plain": [
       "(84090, 5)"
      ]
     },
     "execution_count": 56,
     "metadata": {},
     "output_type": "execute_result"
    }
   ],
   "source": [
    "job_df.shape"
   ]
  },
  {
   "cell_type": "code",
   "execution_count": 57,
   "id": "36c6dbf2",
   "metadata": {},
   "outputs": [
    {
     "data": {
      "text/plain": [
       "'Hiring Event Details\\r\\nStore Associate\\r\\n\\r\\n$12.00 / Hour\\r\\nAdditional $1.00 Per Hour For ALL Sunday Shifts!\\r\\n50 Cent Wage Increases Beginning At 6 Months - Up to $13.50 At 2 Years\\r\\n\\r\\nMonday, December 15, 2014\\r\\n9am - 11am\\r\\n\\r\\nALDI\\r\\n3133 Market Place Dr\\r\\nOnalaska, WI 54650\\r\\n\\r\\n&nbsp;\\r\\nFor consideration, please apply in person at the hiring event only. Get started now by downloading our Store Employment Application.\\r\\n\\r\\nStore Associate - Retail Sales ( Customer Service )\\r\\n\\r\\nIf you are a customer service minded individual with a positive and energetic personality and you&rsquo;re interested in working for one of the best-known grocery stores in the nation, join the ALDI family! We are looking for motivated and reliable individuals to serve as a Store Associate. You will serve as the face of ALDI, providing customers with friendly and efficient check-out services. But that&rsquo;s just the beginning. You will also assist the store manager in a variety of roles, from stocking and merchandising our products to monitoring inventory and keeping the store looking clean and inviting. This is also an excellent ground-floor opportunity for you if you are interested in pursuing a management career, as we prefer to promote from within whenever possible. If you are a people person who likes to roll up your sleeves and put in a good day&rsquo;s work, we want to talk with you!\\r\\n\\r\\n\\r\\nStore Associate - Retail Sales ( Customer Service )\\r\\n\\r\\nJob Responsibilities\\r\\n&nbsp;\\r\\nAs a Store Associate, you will be involved in all aspects of keeping the store looking and functioning at its best. First and foremost, of course, you will keep your checkout line moving as quickly and smoothly as possible while ensuring that customers have a pleasant and positive shopping experience. In addition, you will have a variety of other duties throughout the store, which you will perform on an as-needed basis.\\r\\n&nbsp;\\r\\nYour specific duties as a Store Associate will include:\\r\\n&nbsp;\\r\\n\\r\\n    \\r\\n    Providing friendly and informative customer service\\r\\n    \\r\\n    Ringing up customers quickly, efficiently, and with a smile\\r\\n    \\r\\n    Maintaining professional appearance and demeanor at all times\\r\\n    \\r\\n    Making a positive impression on customers to encourage word-of-mouth referrals\\r\\n    \\r\\n    Scanning products\\r\\n    \\r\\n    Conducting cash and inventory control\\r\\n    \\r\\n    Maintaining displays and ensuring that they are kept stocked and up to company standards\\r\\n    \\r\\n    Loading and unloading delivery trucks\\r\\n    \\r\\n    Rotating stock\\r\\n    \\r\\n    Keeping the store clean (floors, registers, bathrooms, etc.)\\r\\n\\r\\n'"
      ]
     },
     "execution_count": 57,
     "metadata": {},
     "output_type": "execute_result"
    }
   ],
   "source": [
    "job_df['Job.Description'][20]"
   ]
  },
  {
   "cell_type": "code",
   "execution_count": 58,
   "id": "a48f6d66",
   "metadata": {},
   "outputs": [
    {
     "data": {
      "text/plain": [
       "Status             0\n",
       "Title              0\n",
       "Position           0\n",
       "Company            0\n",
       "Job.Description    0\n",
       "dtype: int64"
      ]
     },
     "execution_count": 58,
     "metadata": {},
     "output_type": "execute_result"
    }
   ],
   "source": [
    "job_df.isnull().sum()\n",
    "job_df.fillna('',inplace=True)\n",
    "job_df.isnull().sum()"
   ]
  },
  {
   "cell_type": "code",
   "execution_count": 59,
   "id": "035ec4ed",
   "metadata": {},
   "outputs": [],
   "source": [
    "job_df = job_df.sample(n=1000,random_state=42)"
   ]
  },
  {
   "cell_type": "code",
   "execution_count": 60,
   "id": "baddc2c3",
   "metadata": {},
   "outputs": [
    {
     "data": {
      "text/plain": [
       "(1000, 5)"
      ]
     },
     "execution_count": 60,
     "metadata": {},
     "output_type": "execute_result"
    }
   ],
   "source": [
    "job_df.shape"
   ]
  },
  {
   "cell_type": "markdown",
   "id": "54970a8b",
   "metadata": {},
   "source": [
    "# cleaning dataset\n",
    "keeping all letters and digits                          \n",
    "lover case                             \n",
    "removing stopwords                            \n",
    "tokenization                            \n",
    "stemming                         "
   ]
  },
  {
   "cell_type": "code",
   "execution_count": 61,
   "id": "4049f2e0",
   "metadata": {},
   "outputs": [],
   "source": [
    "from nltk.corpus import stopwords\n",
    "import nltk\n",
    "import re\n",
    "from nltk.stem.porter import PorterStemmer\n",
    "ps = PorterStemmer()"
   ]
  },
  {
   "cell_type": "code",
   "execution_count": 62,
   "id": "856403b0",
   "metadata": {},
   "outputs": [],
   "source": [
    "def cleaning(text):\n",
    "    # convert to lowercase\n",
    "    text = text.lower()\n",
    "\n",
    "    # remove special characters\n",
    "    text = re.sub(r'\\W+', ' ', text)\n",
    "\n",
    "    # remove extra spaces\n",
    "    text = re.sub(' +', ' ', text)\n",
    "\n",
    "    # remove starting and trailing spaces\n",
    "    text = text.strip()\n",
    "\n",
    "    return text\n",
    "    "
   ]
  },
  {
   "cell_type": "code",
   "execution_count": 63,
   "id": "0b93699d",
   "metadata": {},
   "outputs": [
    {
     "data": {
      "text/plain": [
       "'helo the master piece is my loving moving cat 9032'"
      ]
     },
     "execution_count": 63,
     "metadata": {},
     "output_type": "execute_result"
    }
   ],
   "source": [
    "cleaning(\"\\n\\rhelo the master piece is my loving moving dog @9032#%$\")"
   ]
  },
  {
   "cell_type": "code",
   "execution_count": 64,
   "id": "cf3c9491",
   "metadata": {},
   "outputs": [],
   "source": [
    "job_df['Job.Description'] = job_df['Job.Description'].astype(str).apply(lambda x: cleaning(x))\n",
    "job_df['Title'] = job_df['Title'].astype(str).apply(lambda x: cleaning(x))\n",
    "job_df['Position'] = job_df['Position'].astype(str).apply(lambda x: cleaning(x))"
   ]
  },
  {
   "cell_type": "code",
   "execution_count": 65,
   "id": "1ef18c7a",
   "metadata": {},
   "outputs": [],
   "source": [
    "job_df['clean_text'] = job_df['Job.Description']+\" \"+job_df['Title']+job_df['Position']"
   ]
  },
  {
   "cell_type": "code",
   "execution_count": 66,
   "id": "ec674b3f",
   "metadata": {},
   "outputs": [
    {
     "data": {
      "text/plain": [
       "'job summary knowledge universe ku site directors are site leaders who inspire children and teachers alike to learn and grow they are passionate about educational excellence and confident teaching children and adults they use our nationally recognized curriculum as a framework to create unique and engaging classroom experiences they are committed to making their site successful and know that meaningful relationships with children families and their team are important to success they are fully engaged enthusiastic about their work and eager to share their knowledge with others job responsibilities and essential functions these are the basic expectations for site directors of course creative and new ways to meet or exceed expectations are encouraged so long as the required essential functions are also met supervision of children and staff record keeping licensing records and child files lesson planning and implementation maintenance of safe and welcoming classroom environment building of relationships with the community and school recruiting new students to the program applicant must have strong organizational skills site director knowledge universesite director'"
      ]
     },
     "execution_count": 66,
     "metadata": {},
     "output_type": "execute_result"
    }
   ],
   "source": [
    "job_df['clean_text'][64119]"
   ]
  },
  {
   "cell_type": "markdown",
   "id": "d5d9bec7",
   "metadata": {},
   "source": [
    "# vectorizatoin"
   ]
  },
  {
   "cell_type": "code",
   "execution_count": 67,
   "id": "7bd5de09",
   "metadata": {},
   "outputs": [],
   "source": [
    "from sklearn.feature_extraction.text import TfidfVectorizer\n",
    "from sklearn.metrics.pairwise import cosine_similarity"
   ]
  },
  {
   "cell_type": "code",
   "execution_count": 68,
   "id": "d55d267e",
   "metadata": {},
   "outputs": [],
   "source": [
    "tfidf = TfidfVectorizer(stop_words='english')\n",
    "matrix = tfidf.fit_transform(job_df['clean_text'])\n",
    "similarity = cosine_similarity(matrix)"
   ]
  },
  {
   "cell_type": "code",
   "execution_count": 69,
   "id": "a7d109c6",
   "metadata": {},
   "outputs": [
    {
     "data": {
      "text/plain": [
       "array([[1.        , 0.04316713, 0.01584323, ..., 0.03422459, 0.02355197,\n",
       "        0.05787057],\n",
       "       [0.04316713, 1.        , 0.02349895, ..., 0.02843237, 0.00650416,\n",
       "        0.02200366],\n",
       "       [0.01584323, 0.02349895, 1.        , ..., 0.12147903, 0.11821837,\n",
       "        0.0849148 ],\n",
       "       ...,\n",
       "       [0.03422459, 0.02843237, 0.12147903, ..., 1.        , 0.10231673,\n",
       "        0.0942541 ],\n",
       "       [0.02355197, 0.00650416, 0.11821837, ..., 0.10231673, 1.        ,\n",
       "        0.3645772 ],\n",
       "       [0.05787057, 0.02200366, 0.0849148 , ..., 0.0942541 , 0.3645772 ,\n",
       "        1.        ]])"
      ]
     },
     "execution_count": 69,
     "metadata": {},
     "output_type": "execute_result"
    }
   ],
   "source": [
    "similarity"
   ]
  },
  {
   "cell_type": "code",
   "execution_count": 70,
   "id": "cdfd9a15",
   "metadata": {},
   "outputs": [
    {
     "data": {
      "text/plain": [
       "[(276, 0.9722978191534403),\n",
       " (730, 0.46934556239894065),\n",
       " (81, 0.45367410518365264),\n",
       " (917, 0.45367410518365264),\n",
       " (252, 0.23216213857943935),\n",
       " (128, 0.2103412366151445),\n",
       " (629, 0.16075217918132761),\n",
       " (825, 0.15085839382029045),\n",
       " (360, 0.13948993213260905),\n",
       " (38, 0.1320341335055304),\n",
       " (245, 0.12480868628845905),\n",
       " (326, 0.1212848168047901),\n",
       " (298, 0.11780183176064217),\n",
       " (195, 0.11298471725820095),\n",
       " (284, 0.11217975216761909),\n",
       " (59, 0.11167276537417432),\n",
       " (114, 0.10797827058611764),\n",
       " (254, 0.10562131035812325),\n",
       " (890, 0.10498251733474127)]"
      ]
     },
     "execution_count": 70,
     "metadata": {},
     "output_type": "execute_result"
    }
   ],
   "source": [
    "sorted(list(enumerate(similarity[0])), key=lambda x: x[1], reverse=True)[1:20]"
   ]
  },
  {
   "cell_type": "markdown",
   "id": "f5d126d7",
   "metadata": {},
   "source": [
    "# Recommendation System"
   ]
  },
  {
   "cell_type": "code",
   "execution_count": 71,
   "id": "5a3e6749",
   "metadata": {},
   "outputs": [
    {
     "name": "stdout",
     "output_type": "stream",
     "text": [
      "Error: The input title 'Software Engineer' was not found in the job_df DataFrame.\n",
      "[]\n"
     ]
    }
   ],
   "source": [
    "# define recommend function\n",
    "def recommend(title):\n",
    "    try:\n",
    "        # find index of input title in job_df\n",
    "        indx = job_df[job_df['Title'] == title].index[0]\n",
    "        indx = job_df.index.get_loc(indx)\n",
    "\n",
    "        # calculate similarity between input title and all other titles\n",
    "        distances = sorted(list(enumerate(similarity[indx])), key=lambda x: x[1], reverse=True)[1:20]\n",
    "\n",
    "        # extract top 20 most similar job titles\n",
    "        jobs = []\n",
    "        for i in distances:\n",
    "            jobs.append(job_df.iloc[i[0]].Title)\n",
    "\n",
    "        return jobs\n",
    "\n",
    "    except IndexError:\n",
    "        print(f\"Error: The input title '{title}' was not found in the job_df DataFrame.\")\n",
    "        return []\n",
    "\n",
    "# recommend jobs based on input title\n",
    "input_title = 'Software Engineer'\n",
    "recommendations = recommend(input_title)\n",
    "print(recommendations)\n",
    "        "
   ]
  },
  {
   "cell_type": "code",
   "execution_count": 72,
   "id": "bcb9affb",
   "metadata": {},
   "outputs": [
    {
     "name": "stdout",
     "output_type": "stream",
     "text": [
      "Error: The input title 'site director knowledg univers' was not found in the job_df DataFrame.\n"
     ]
    },
    {
     "data": {
      "text/plain": [
       "[]"
      ]
     },
     "execution_count": 72,
     "metadata": {},
     "output_type": "execute_result"
    }
   ],
   "source": [
    "recommend(' software tester')"
   ]
  },
  {
   "cell_type": "code",
   "execution_count": 73,
   "id": "7e5e5470",
   "metadata": {},
   "outputs": [],
   "source": [
    "import pickle\n",
    "pickle.dump(job_df,open('df.pkl','wb'))\n",
    "pickle.dump(similarity,open('similarity.pkl','wb'))"
   ]
  },
  {
   "cell_type": "code",
   "execution_count": 74,
   "id": "239dc57f",
   "metadata": {},
   "outputs": [
    {
     "name": "stdout",
     "output_type": "stream",
     "text": [
      "2.1.4\n"
     ]
    }
   ],
   "source": [
    "import pandas as pd\n",
    "print(pd.__version__)\n"
   ]
  },
  {
   "cell_type": "code",
   "execution_count": null,
   "id": "692bae56",
   "metadata": {},
   "outputs": [],
   "source": []
  }
 ],
 "metadata": {
  "kernelspec": {
   "display_name": "Python 3 (ipykernel)",
   "language": "python",
   "name": "python3"
  },
  "language_info": {
   "codemirror_mode": {
    "name": "ipython",
    "version": 3
   },
   "file_extension": ".py",
   "mimetype": "text/x-python",
   "name": "python",
   "nbconvert_exporter": "python",
   "pygments_lexer": "ipython3",
   "version": "3.11.2"
  }
 },
 "nbformat": 4,
 "nbformat_minor": 5
}
